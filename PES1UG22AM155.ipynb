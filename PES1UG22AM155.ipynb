{
 "cells": [
  {
   "cell_type": "markdown",
   "metadata": {},
   "source": [
    "## Dataset Information \n",
    "https://www.kaggle.com/datasets/kumarajarshi/life-expectancy-who/data"
   ]
  },
  {
   "cell_type": "markdown",
   "metadata": {},
   "source": [
    "\n",
    "### Columns:\n",
    "• Country: Country name\n",
    "\n",
    "• Year: Year of data collection\n",
    "\n",
    "• Status: Developed/Developing status\n",
    "\n",
    "• Life Expectancy: Life expectancy in age\n",
    "\n",
    "• Adult Mortality: Adult Mortality Rates of both sexes (probability of dying between 15 and 60 years per 1000 population)\n",
    "\n",
    "• Infant Deaths: Number of Infant Deaths per 1000 population\n",
    "\n",
    "• Alcohol: Alcohol, recorded per capita (15+) consumption (in litres of pure alcohol)\n",
    "\n",
    "• Percentage Expenditure: Expenditure on health as a percentage of Gross Domestic Product per capita(%)\n",
    "\n",
    "• Hepatitis B: Hepatitis B (HepB) immunization coverage among 1-year-olds (%)\n",
    "\n",
    "• Measles: Measles - number of reported cases per 1000 population\n",
    "\n",
    "• BMI: Average Body Mass Index of entire population\n",
    "\n",
    "• Under-five Deaths: Number of under-five deaths per 1000 population\n",
    "\n",
    "• Polio: Polio (Pol3) immunization coverage among 1-year-olds (%)\n",
    "\n",
    "• Total Expenditure: General government expenditure on health as a percentage of total government expenditure (%)\n",
    "\n",
    "• Diphtheria: Diphtheria tetanus toxoid and pertussis (DTP3) immunization coverage among 1-year-olds (%)\n",
    "\n",
    "• HIV/AIDS: Deaths per 1000 live births HIV/AIDS (0-4 years)\n",
    "\n",
    "• GDP: Gross Domestic Product per capita (in USD)\n",
    "\n",
    "• Population: Population of the country\n",
    "\n",
    "• Thinness 1-19 years: Prevalence of thinness among children and adolescents for Age 10 to 19 (% )\n",
    "\n",
    "• Thinness 5-6 years: Prevalance of thinness among children for Age 5 to 9(%)\n",
    "\n",
    "• Income Composition of Resources: Human Development Index in terms of income composition of resources (index ranging from 0 to 1)\n",
    "\n",
    "• Schooling: Number of years of Schooling(years)"
   ]
  },
  {
   "cell_type": "markdown",
   "metadata": {},
   "source": [
    "## Processing the Dataset\n",
    "You are free to edit this to process the data differently, or to perform exploratory data analysis (EDA) before constructing your models."
   ]
  },
  {
   "cell_type": "code",
   "execution_count": 26,
   "metadata": {},
   "outputs": [
    {
     "name": "stdout",
     "output_type": "stream",
     "text": [
      "<class 'pandas.core.frame.DataFrame'>\n",
      "RangeIndex: 2938 entries, 0 to 2937\n",
      "Data columns (total 22 columns):\n",
      " #   Column                           Non-Null Count  Dtype  \n",
      "---  ------                           --------------  -----  \n",
      " 0   Country                          2938 non-null   object \n",
      " 1   Year                             2938 non-null   int64  \n",
      " 2   Status                           2938 non-null   object \n",
      " 3   Life expectancy                  2928 non-null   float64\n",
      " 4   Adult Mortality                  2928 non-null   float64\n",
      " 5   infant deaths                    2938 non-null   int64  \n",
      " 6   Alcohol                          2744 non-null   float64\n",
      " 7   percentage expenditure           2938 non-null   float64\n",
      " 8   Hepatitis B                      2385 non-null   float64\n",
      " 9   Measles                          2938 non-null   int64  \n",
      " 10   BMI                             2904 non-null   float64\n",
      " 11  under-five deaths                2938 non-null   int64  \n",
      " 12  Polio                            2919 non-null   float64\n",
      " 13  Total expenditure                2712 non-null   float64\n",
      " 14  Diphtheria                       2919 non-null   float64\n",
      " 15   HIV/AIDS                        2938 non-null   float64\n",
      " 16  GDP                              2490 non-null   float64\n",
      " 17  Population                       2286 non-null   float64\n",
      " 18   thinness  1-19 years            2904 non-null   float64\n",
      " 19   thinness 5-9 years              2904 non-null   float64\n",
      " 20  Income composition of resources  2771 non-null   float64\n",
      " 21  Schooling                        2775 non-null   float64\n",
      "dtypes: float64(16), int64(4), object(2)\n",
      "memory usage: 505.1+ KB\n",
      "None\n",
      "              Year  Life expectancy   Adult Mortality  infant deaths  \\\n",
      "count  2938.000000       2928.000000      2928.000000    2938.000000   \n",
      "mean   2007.518720         69.224932       164.796448      30.303948   \n",
      "std       4.613841          9.523867       124.292079     117.926501   \n",
      "min    2000.000000         36.300000         1.000000       0.000000   \n",
      "25%    2004.000000         63.100000        74.000000       0.000000   \n",
      "50%    2008.000000         72.100000       144.000000       3.000000   \n",
      "75%    2012.000000         75.700000       228.000000      22.000000   \n",
      "max    2015.000000         89.000000       723.000000    1800.000000   \n",
      "\n",
      "           Alcohol  percentage expenditure  Hepatitis B       Measles   \\\n",
      "count  2744.000000             2938.000000  2385.000000    2938.000000   \n",
      "mean      4.602861              738.251295    80.940461    2419.592240   \n",
      "std       4.052413             1987.914858    25.070016   11467.272489   \n",
      "min       0.010000                0.000000     1.000000       0.000000   \n",
      "25%       0.877500                4.685343    77.000000       0.000000   \n",
      "50%       3.755000               64.912906    92.000000      17.000000   \n",
      "75%       7.702500              441.534144    97.000000     360.250000   \n",
      "max      17.870000            19479.911610    99.000000  212183.000000   \n",
      "\n",
      "              BMI   under-five deaths         Polio  Total expenditure  \\\n",
      "count  2904.000000         2938.000000  2919.000000         2712.00000   \n",
      "mean     38.321247           42.035739    82.550188            5.93819   \n",
      "std      20.044034          160.445548    23.428046            2.49832   \n",
      "min       1.000000            0.000000     3.000000            0.37000   \n",
      "25%      19.300000            0.000000    78.000000            4.26000   \n",
      "50%      43.500000            4.000000    93.000000            5.75500   \n",
      "75%      56.200000           28.000000    97.000000            7.49250   \n",
      "max      87.300000         2500.000000    99.000000           17.60000   \n",
      "\n",
      "       Diphtheria      HIV/AIDS            GDP    Population  \\\n",
      "count  2919.000000  2938.000000    2490.000000  2.286000e+03   \n",
      "mean     82.324084     1.742103    7483.158469  1.275338e+07   \n",
      "std      23.716912     5.077785   14270.169342  6.101210e+07   \n",
      "min       2.000000     0.100000       1.681350  3.400000e+01   \n",
      "25%      78.000000     0.100000     463.935626  1.957932e+05   \n",
      "50%      93.000000     0.100000    1766.947595  1.386542e+06   \n",
      "75%      97.000000     0.800000    5910.806335  7.420359e+06   \n",
      "max      99.000000    50.600000  119172.741800  1.293859e+09   \n",
      "\n",
      "        thinness  1-19 years   thinness 5-9 years  \\\n",
      "count            2904.000000          2904.000000   \n",
      "mean                4.839704             4.870317   \n",
      "std                 4.420195             4.508882   \n",
      "min                 0.100000             0.100000   \n",
      "25%                 1.600000             1.500000   \n",
      "50%                 3.300000             3.300000   \n",
      "75%                 7.200000             7.200000   \n",
      "max                27.700000            28.600000   \n",
      "\n",
      "       Income composition of resources    Schooling  \n",
      "count                      2771.000000  2775.000000  \n",
      "mean                          0.627551    11.992793  \n",
      "std                           0.210904     3.358920  \n",
      "min                           0.000000     0.000000  \n",
      "25%                           0.493000    10.100000  \n",
      "50%                           0.677000    12.300000  \n",
      "75%                           0.779000    14.300000  \n",
      "max                           0.948000    20.700000  \n"
     ]
    },
    {
     "name": "stderr",
     "output_type": "stream",
     "text": [
      "/tmp/ipykernel_19482/530970970.py:34: FutureWarning: A value is trying to be set on a copy of a DataFrame or Series through chained assignment using an inplace method.\n",
      "The behavior will change in pandas 3.0. This inplace method will never work because the intermediate object on which we are setting values always behaves as a copy.\n",
      "\n",
      "For example, when doing 'df[col].method(value, inplace=True)', try using 'df.method({col: value}, inplace=True)' or df[col] = df[col].method(value) instead, to perform the operation inplace on the original object.\n",
      "\n",
      "\n",
      "  df[col].fillna(df[col].mode()[0], inplace=True)\n"
     ]
    }
   ],
   "source": [
    "import pandas as pd\n",
    "import numpy as np\n",
    "from sklearn.model_selection import train_test_split\n",
    "from sklearn.linear_model import LinearRegression, Lasso, Ridge, ElasticNet\n",
    "from sklearn.preprocessing import PolynomialFeatures\n",
    "from sklearn.metrics import mean_squared_error, r2_score\n",
    "from sklearn.pipeline import Pipeline\n",
    "import logging\n",
    "\n",
    "\n",
    "df = pd.read_csv(\"Life Expectancy Data.csv\")\n",
    "print(df.info())\n",
    "print(df.describe())\n",
    "\n",
    "# # Convert 'Year' to datetime (optional) for better time-series handling\n",
    "# df[\"Year\"] = pd.to_datetime(df[\"Year\"], format=\"%Y\", errors=\"coerce\")\n",
    "\n",
    "# Drop columns with more than 30% missing values\n",
    "threshold = 0.3\n",
    "missing_percentage = df.isnull().mean()\n",
    "columns_to_drop = missing_percentage[missing_percentage > threshold].index\n",
    "df = df.drop(columns=columns_to_drop)\n",
    "\n",
    "# Convert 'Status' to a binary representation\n",
    "df[\"Status\"] = df[\"Status\"].map({\"Developed\": 1, \"Developing\": 0})\n",
    "\n",
    "# Fill missing values for numerical columns with the column mean\n",
    "num_cols = df.select_dtypes(include=[np.number]).columns\n",
    "df[num_cols] = df[num_cols].fillna(df[num_cols].mean())\n",
    "\n",
    "# Fill missing values for categorical columns with mode\n",
    "cat_cols = df.select_dtypes(include=[\"object\"]).columns\n",
    "for col in cat_cols:\n",
    "    df[col].fillna(df[col].mode()[0], inplace=True)\n",
    "\n",
    "# Drop irrelevant columns if any (e.g., 'Country', if you want to focus on global patterns)\n",
    "df = df.drop(columns=[\"Country\"])  # Uncomment if 'Country' column shouldn't be dropped\n",
    "\n",
    "# Drop duplicates\n",
    "df = df.drop_duplicates()\n",
    "\n",
    "# Reset index after cleaning\n",
    "df.reset_index(drop=True, inplace=True)\n",
    "\n",
    "# # Ensure 'Year' is removed from the features as it is datetime\n",
    "df = df.drop(columns=[\"Year\"])\n",
    "\n",
    "# Split data into features and target\n",
    "X = df.drop(columns=[\"Life expectancy \"])\n",
    "y = df[\"Life expectancy \"]\n",
    "\n",
    "# Split data into training and testing sets\n",
    "X_train, X_test, y_train, y_test = train_test_split(\n",
    "    X, y, test_size=0.2, random_state=123\n",
    ")"
   ]
  },
  {
   "cell_type": "markdown",
   "metadata": {},
   "source": [
    "## Implementing the Regression Models\n",
    "Take a look at the sample linear regression function, and implement the other function in the same manner. "
   ]
  },
  {
   "cell_type": "markdown",
   "metadata": {},
   "source": [
    "#### Sample Linear Regression"
   ]
  },
  {
   "cell_type": "code",
   "execution_count": 27,
   "metadata": {},
   "outputs": [],
   "source": [
    "def sample_linear_regression(X_train, y_train, X_test, y_test, n_iterations=100):\n",
    "    mse_scores = []\n",
    "    r2_scores = []\n",
    "\n",
    "    for _ in range(n_iterations):\n",
    "        model = LinearRegression()\n",
    "        model.fit(X_train, y_train)\n",
    "        y_pred = model.predict(X_test)\n",
    "        mse = mean_squared_error(y_test, y_pred)\n",
    "        r2 = r2_score(y_test, y_pred)\n",
    "        mse_scores.append(mse)\n",
    "        r2_scores.append(r2)\n",
    "\n",
    "    # Average the scores over all iterations\n",
    "    avg_mse = np.mean(mse_scores)\n",
    "    avg_r2 = np.mean(r2_scores)\n",
    "\n",
    "    return avg_mse, avg_r2"
   ]
  },
  {
   "cell_type": "code",
   "execution_count": 48,
   "metadata": {},
   "outputs": [],
   "source": [
    "import numpy as np\n",
    "from sklearn.linear_model import LinearRegression\n",
    "from sklearn.metrics import mean_squared_error, r2_score\n",
    "\n",
    "\n",
    "def linear_regression(X_train, y_train, X_test, y_test, n_iterations=100):\n",
    "    mse_scores = []\n",
    "    r2_scores = []\n",
    "\n",
    "    for _ in range(n_iterations):\n",
    "        model = LinearRegression()\n",
    "        model.fit(X_train, y_train)\n",
    "        y_pred = model.predict(X_test)\n",
    "        mse = mean_squared_error(y_test, y_pred)\n",
    "        r2 = r2_score(y_test, y_pred)\n",
    "        mse_scores.append(mse)\n",
    "        r2_scores.append(r2)\n",
    "\n",
    "    # Average the scores over all iterations\n",
    "    avg_mse = np.mean(mse_scores)\n",
    "    avg_r2 = np.mean(r2_scores)\n",
    "\n",
    "    return avg_mse, avg_r2\n",
    "\n",
    "\n",
    "# linear_regression(X_train, y_train, X_test, y_test, n_iterations=100)"
   ]
  },
  {
   "cell_type": "code",
   "execution_count": 49,
   "metadata": {},
   "outputs": [],
   "source": [
    "# Lasso Regression\n",
    "def lasso_regression(X_train, y_train, X_test, y_test, alpha=1.0, n_iterations=100):\n",
    "    mses = []\n",
    "    r2s = []\n",
    "    for _ in range(n_iterations):\n",
    "        model = Lasso(alpha=alpha)\n",
    "        model.fit(X_train, y_train)\n",
    "        y_pred = model.predict(X_test)\n",
    "        mses.append(mean_squared_error(y_test, y_pred))\n",
    "        r2s.append(r2_score(y_test, y_pred))\n",
    "\n",
    "    return np.mean(mses), np.mean(r2s)\n",
    "\n",
    "\n",
    "# lasso_regression(X_train, y_train, X_test, y_test, alpha=1.0, n_iterations=100)"
   ]
  },
  {
   "cell_type": "code",
   "execution_count": 50,
   "metadata": {},
   "outputs": [],
   "source": [
    "# Ridge Regression\n",
    "def ridge_regression(X_train, y_train, X_test, y_test, alpha=1.0, n_iterations=100):\n",
    "    mses = []\n",
    "    r2s = []\n",
    "    for _ in range(n_iterations):\n",
    "        model = Ridge(alpha=alpha)\n",
    "        model.fit(X_train, y_train)\n",
    "        y_pred = model.predict(X_test)\n",
    "        mses.append(mean_squared_error(y_test, y_pred))\n",
    "        r2s.append(r2_score(y_test, y_pred))\n",
    "\n",
    "    return np.mean(mses), np.mean(r2s)\n",
    "\n",
    "\n",
    "# ridge_regression(X_train, y_train, X_test, y_test, alpha=1.0, n_iterations=100)"
   ]
  },
  {
   "cell_type": "code",
   "execution_count": 51,
   "metadata": {},
   "outputs": [],
   "source": [
    "# Elastic Net Regression\n",
    "def elastic_net_regression(\n",
    "    X_train, y_train, X_test, y_test, alpha=1.0, l1_ratio=0.5, n_iterations=100\n",
    "):\n",
    "    mses = []\n",
    "    r2s = []\n",
    "    for _ in range(n_iterations):\n",
    "        model = ElasticNet(alpha=alpha, l1_ratio=l1_ratio)\n",
    "        model.fit(X_train, y_train)\n",
    "        y_pred = model.predict(X_test)\n",
    "        mses.append(mean_squared_error(y_test, y_pred))\n",
    "        r2s.append(r2_score(y_test, y_pred))\n",
    "\n",
    "    return np.mean(mses), np.mean(r2s)\n",
    "\n",
    "\n",
    "# elastic_net_regression(\n",
    "#     X_train, y_train, X_test, y_test, alpha=1.0, l1_ratio=0.5, n_iterations=100\n",
    "# )"
   ]
  },
  {
   "cell_type": "markdown",
   "metadata": {},
   "source": [
    "## Evaluation"
   ]
  },
  {
   "cell_type": "code",
   "execution_count": 52,
   "metadata": {},
   "outputs": [
    {
     "name": "stdout",
     "output_type": "stream",
     "text": [
      "Linear Regression - Mean Squared Error: 16.13, R^2 Score: 0.82\n",
      "Lasso Regression - Mean Squared Error: 18.01, R^2 Score: 0.80\n",
      "Ridge Regression - Mean Squared Error: 16.14, R^2 Score: 0.82\n",
      "Elastic Net Regression - Mean Squared Error: 17.70, R^2 Score: 0.80\n"
     ]
    }
   ],
   "source": [
    "import warnings\n",
    "\n",
    "warnings.filterwarnings(action=\"ignore\")\n",
    "\n",
    "# Train models and collect results\n",
    "results = {}\n",
    "results[\"Linear Regression\"] = linear_regression(\n",
    "    X_train, y_train, X_test, y_test, n_iterations=100\n",
    ")\n",
    "results[\"Lasso Regression\"] = lasso_regression(\n",
    "    X_train, y_train, X_test, y_test, alpha=1.0, n_iterations=100\n",
    ")\n",
    "results[\"Ridge Regression\"] = ridge_regression(\n",
    "    X_train, y_train, X_test, y_test, alpha=1.0, n_iterations=100\n",
    ")\n",
    "results[\"Elastic Net Regression\"] = elastic_net_regression(\n",
    "    X_train, y_train, X_test, y_test, alpha=1.0, l1_ratio=0.5, n_iterations=100\n",
    ")\n",
    "\n",
    "# Print results\n",
    "for k, v in results.items():\n",
    "    print(f\"{k} - Mean Squared Error: {v[0]:.2f}, R^2 Score: {v[1]:.2f}\")"
   ]
  },
  {
   "cell_type": "markdown",
   "metadata": {},
   "source": [
    "## Inferences\n",
    "To answer these questions, you are expected to continue experimentation. You may plot graphs, etc. to arrive at conclusions. All questions are to be backed up with proper reasoning.\n",
    "\n",
    "(Answer the questions in the same markdown cells)"
   ]
  },
  {
   "cell_type": "markdown",
   "metadata": {},
   "source": [
    "##### **1. How does the performance of the Linear Regression model compare with other regression models (Lasso, Ridge, Elastic Net) based on Mean Squared Error (MSE) and R^2 Score?**\n",
    "\n",
    "Linear Regressions and Ridge Regression perform the best and Lasso and Elastic Net are slightly worse. "
   ]
  },
  {
   "cell_type": "code",
   "execution_count": null,
   "metadata": {},
   "outputs": [
    {
     "data": {
      "image/png": "[encoded data removed]",
      "text/plain": [
       "<Figure size 640x480 with 1 Axes>"
      ]
     },
     "metadata": {},
     "output_type": "display_data"
    }
   ],
   "source": [
    "import matplotlib.pyplot as plt\n",
    "\n",
    "keys = list(results.keys())\n",
    "mse = list(map(lambda x: x[0], results.values()))\n",
    "r2 = list(map(lambda x: x[1], results.values()))\n",
    "\n",
    "plt.bar(keys, mse)\n",
    "plt.title(\"MSE\")\n",
    "plt.bar(keys, r2)\n",
    "plt.title(\"R2\")\n",
    "plt.show()"
   ]
  },
  {
   "cell_type": "markdown",
   "metadata": {},
   "source": [
    "##### **2. Which features are selected by Lasso Regression, and how does this compare with the features used in Linear Regression?**\n",
    "\n",
    "Linear regression selects all features while lasso regression selects \n",
    "\n",
    "`Adult Mortality`, `infant deaths`, `Alcohol`, `percentage expenditure`, `Hepatitis B`, `Measles`, `BMI`, `under-five deaths`, `Polio`, `Diphtheria`, `HIV/AIDS`, `GDP`, `Population`, ` thinness  1-19 years`, `Schooling`\n"
   ]
  },
  {
   "cell_type": "code",
   "execution_count": null,
   "metadata": {},
   "outputs": [
    {
     "name": "stdout",
     "output_type": "stream",
     "text": [
      "['Adult Mortality', 'infant deaths', 'Alcohol', 'percentage expenditure', 'Hepatitis B', 'Measles ', ' BMI ', 'under-five deaths ', 'Polio', 'Diphtheria ', ' HIV/AIDS', 'GDP', 'Population', ' thinness  1-19 years', 'Schooling']\n",
      "['Status', 'Adult Mortality', 'infant deaths', 'Alcohol', 'percentage expenditure', 'Hepatitis B', 'Measles ', ' BMI ', 'under-five deaths ', 'Polio', 'Total expenditure', 'Diphtheria ', ' HIV/AIDS', 'GDP', 'Population', ' thinness  1-19 years', ' thinness 5-9 years', 'Income composition of resources', 'Schooling']\n"
     ]
    }
   ],
   "source": [
    "def lasso_regression1(X_train, y_train, alpha=1.0):\n",
    "    model = Lasso(alpha=alpha)\n",
    "    model.fit(X_train, y_train)\n",
    "    features = np.where(model.coef_ != 0)[0]\n",
    "    return [X.columns[i] for i in features]\n",
    "\n",
    "\n",
    "def linear_regression1(X_train, y_train):\n",
    "    model = LinearRegression()\n",
    "    model.fit(X_train, y_train)\n",
    "    features = np.where(model.coef_ != 0)[0]\n",
    "    return [X.columns[i] for i in features]\n",
    "\n",
    "\n",
    "print(lasso_regression1(X_train, y_train, alpha=1.0))\n",
    "print(linear_regression1(X_train, y_train))"
   ]
  },
  {
   "cell_type": "markdown",
   "metadata": {},
   "source": [
    "#### **3. How does Ridge Regression with different alpha values impact the model's performance and feature coefficients?**\n",
    "\n",
    "MSE increases with increase in alpha and R2 reduces with increase in alpha. "
   ]
  },
  {
   "cell_type": "code",
   "execution_count": null,
   "metadata": {},
   "outputs": [
    {
     "data": {
      "image/png": "[encoded data removed]",
      "text/plain": [
       "<Figure size 640x480 with 1 Axes>"
      ]
     },
     "metadata": {},
     "output_type": "display_data"
    },
    {
     "data": {
      "image/png": "[encoded data removed]",
      "text/plain": [
       "<Figure size 640x480 with 1 Axes>"
      ]
     },
     "metadata": {},
     "output_type": "display_data"
    },
    {
     "data": {
      "text/plain": [
       "([np.float64(16.133083295986705),\n",
       "  np.float64(16.140355124532956),\n",
       "  np.float64(16.147531226576707),\n",
       "  np.float64(16.15461161615486),\n",
       "  np.float64(16.161596518802938),\n",
       "  np.float64(16.168486343243483),\n",
       "  np.float64(16.175281656432972),\n",
       "  np.float64(16.18198316156002),\n",
       "  np.float64(16.188591678639533)],\n",
       " [0.8208522452428876,\n",
       "  0.8207714961552434,\n",
       "  0.8206918100502714,\n",
       "  0.8206131867721007,\n",
       "  0.8205356238163009,\n",
       "  0.8204591166442651,\n",
       "  0.8203836589602976,\n",
       "  0.8203092429559309,\n",
       "  0.8202358595254143])"
      ]
     },
     "metadata": {},
     "output_type": "display_data"
    }
   ],
   "source": [
    "import matplotlib.pyplot as plt\n",
    "\n",
    "\n",
    "def ridge_regression1(X_train, y_train, X_test, y_test):\n",
    "    mses = []\n",
    "    r2s = []\n",
    "    alphas = [i / 2 for i in range(1, 10)]\n",
    "    for i in alphas:\n",
    "        model = Ridge(alpha=i)\n",
    "        model.fit(X_train, y_train)\n",
    "        y_pred = model.predict(X_test)\n",
    "        mses.append(mean_squared_error(y_test, y_pred))\n",
    "        r2s.append(r2_score(y_test, y_pred))\n",
    "\n",
    "    plt.figure()\n",
    "    plt.plot(alphas, mses)\n",
    "    plt.show()\n",
    "    plt.figure()\n",
    "    plt.plot(alphas, r2s)\n",
    "    plt.show()\n",
    "    return mses, r2s\n",
    "\n",
    "\n",
    "ridge_regression1(X_train, y_train, X_test, y_test)"
   ]
  },
  {
   "cell_type": "markdown",
   "metadata": {},
   "source": [
    "#### 4. How does Elastic Net's combination of Lasso and Ridge Regression affect feature selection and model performance?\n",
    "\n",
    "Elastic Nets selects `Adult Mortality`, `infant deaths`, `Alcohol`, `percentage expenditure`, `Hepatitis B`, `Measles `, ` BMI `, `under-five deaths `, `Polio`, `Diphtheria `, ` HIV/AIDS`, `GDP`, `Population`, ` thinness  1-19 years`, ` thinness 5-9 years`, `Schooling`"
   ]
  },
  {
   "cell_type": "code",
   "execution_count": 57,
   "metadata": {},
   "outputs": [
    {
     "name": "stdout",
     "output_type": "stream",
     "text": [
      "['Adult Mortality', 'infant deaths', 'Alcohol', 'percentage expenditure', 'Hepatitis B', 'Measles ', ' BMI ', 'under-five deaths ', 'Polio', 'Diphtheria ', ' HIV/AIDS', 'GDP', 'Population', ' thinness  1-19 years', ' thinness 5-9 years', 'Schooling']\n"
     ]
    }
   ],
   "source": [
    "def elastic_net_regression1(X_train, y_train, alpha=1.0, l1_ratio=0.5):\n",
    "    model = ElasticNet(alpha=alpha, l1_ratio=l1_ratio)\n",
    "    model.fit(X_train, y_train)\n",
    "    features = np.where(model.coef_ != 0)[0]\n",
    "    return [X.columns[i] for i in features]\n",
    "\n",
    "\n",
    "print(elastic_net_regression1(X_train, y_train, 1.0, 0.5))"
   ]
  },
  {
   "cell_type": "code",
   "execution_count": null,
   "metadata": {},
   "outputs": [],
   "source": []
  }
 ],
 "metadata": {
  "kernelspec": {
   "display_name": "base",
   "language": "python",
   "name": "python3"
  },
  "language_info": {
   "codemirror_mode": {
    "name": "ipython",
    "version": 3
   },
   "file_extension": ".py",
   "mimetype": "text/x-python",
   "name": "python",
   "nbconvert_exporter": "python",
   "pygments_lexer": "ipython3",
   "version": "3.11.6"
  }
 },
 "nbformat": 4,
 "nbformat_minor": 2
}
